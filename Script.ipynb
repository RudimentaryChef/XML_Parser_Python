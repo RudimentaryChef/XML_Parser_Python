{
 "cells": [
  {
   "cell_type": "code",
   "execution_count": 1,
   "id": "initial_id",
   "metadata": {
    "collapsed": true,
    "ExecuteTime": {
     "end_time": "2024-02-20T22:49:37.564517Z",
     "start_time": "2024-02-20T22:49:37.055687Z"
    }
   },
   "outputs": [
    {
     "name": "stdout",
     "output_type": "stream",
     "text": [
      "Title: Gallic War\n",
      "Author: Julius Caesar\n",
      "Translator: W. A. McDevitte\n",
      "Publisher: Trustees of Tufts University\n",
      "Publication Place: Medford, MA\n",
      "Release Date: 1997-10-28\n",
      "Source Title: Caesar's Commentaries\n",
      "Source Author: Julius Caesar\n",
      "Source Translators: ['W. A. McDevitte', 'W. S. Bohn']\n",
      "Source Edition: 1st Edition.\n",
      "Source Publication Place: New York\n",
      "Source Publisher: Harper & Brothers\n",
      "Source Publication Date: 1869\n"
     ]
    }
   ],
   "source": [
    "from xml.etree import cElementTree as ET\n",
    "\n",
    "# Parse the XML document\n",
    "tree = ET.parse('/Users/adikrish/Desktop/LatGreText/latin/data/phi0448/phi001/phi0448.phi001.perseus-eng2.xml')\n",
    "root = tree.getroot()\n",
    "\n",
    "# Define namespaces\n",
    "ns = {'tei': 'http://www.tei-c.org/ns/1.0'}\n",
    "\n",
    "# Extract data from teiHeader\n",
    "title = root.find('.//tei:titleStmt/tei:title', ns).text\n",
    "author = root.find('.//tei:titleStmt/tei:author', ns).text\n",
    "translator = root.find('.//tei:titleStmt/tei:editor[@role=\"translator\"]', ns).text\n",
    "publisher = root.find('.//tei:publicationStmt/tei:publisher', ns).text\n",
    "pub_place = root.find('.//tei:publicationStmt/tei:pubPlace', ns).text\n",
    "release_date = root.find('.//tei:publicationStmt/tei:date[@type=\"release\"]', ns).text\n",
    "\n",
    "# Extract data from sourceDesc\n",
    "source_title = root.find('.//tei:biblStruct/tei:monogr/tei:title', ns).text\n",
    "source_author = root.find('.//tei:biblStruct/tei:monogr/tei:author', ns).text\n",
    "source_translators = [editor.text for editor in root.findall('.//tei:biblStruct/tei:monogr/tei:editor[@role=\"translator\"]', ns)]\n",
    "source_edition = root.find('.//tei:biblStruct/tei:monogr/tei:edition', ns).text\n",
    "source_pub_place = root.find('.//tei:biblStruct/tei:monogr/tei:imprint/tei:pubPlace', ns).text\n",
    "source_publisher = root.find('.//tei:biblStruct/tei:monogr/tei:imprint/tei:publisher', ns).text\n",
    "source_pub_date = root.find('.//tei:biblStruct/tei:monogr/tei:imprint/tei:date', ns).text\n",
    "\n",
    "# Print extracted data\n",
    "print(\"Title:\", title)\n",
    "print(\"Author:\", author)\n",
    "print(\"Translator:\", translator)\n",
    "print(\"Publisher:\", publisher)\n",
    "print(\"Publication Place:\", pub_place)\n",
    "print(\"Release Date:\", release_date)\n",
    "print(\"Source Title:\", source_title)\n",
    "print(\"Source Author:\", source_author)\n",
    "print(\"Source Translators:\", source_translators)\n",
    "print(\"Source Edition:\", source_edition)\n",
    "print(\"Source Publication Place:\", source_pub_place)\n",
    "print(\"Source Publisher:\", source_publisher)\n",
    "print(\"Source Publication Date:\", source_pub_date)\n"
   ]
  },
  {
   "cell_type": "code",
   "outputs": [],
   "source": [],
   "metadata": {
    "collapsed": false
   },
   "id": "acfb849a54686c7e"
  }
 ],
 "metadata": {
  "kernelspec": {
   "display_name": "Python 3",
   "language": "python",
   "name": "python3"
  },
  "language_info": {
   "codemirror_mode": {
    "name": "ipython",
    "version": 2
   },
   "file_extension": ".py",
   "mimetype": "text/x-python",
   "name": "python",
   "nbconvert_exporter": "python",
   "pygments_lexer": "ipython2",
   "version": "2.7.6"
  }
 },
 "nbformat": 4,
 "nbformat_minor": 5
}
